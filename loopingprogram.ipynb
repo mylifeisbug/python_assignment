{
 "cells": [
  {
   "cell_type": "code",
   "execution_count": null,
   "id": "dea30fd1",
   "metadata": {},
   "outputs": [],
   "source": [
    "'''\n",
    "*\n",
    "**\n",
    "***\n",
    "****\n",
    "*****'''\n",
    "\n",
    "for i in range(5):\n",
    "    for j in range(i):\n",
    "        print('* ',end='')\n",
    "    print('\\n')"
   ]
  },
  {
   "cell_type": "code",
   "execution_count": null,
   "id": "cc79fc77",
   "metadata": {},
   "outputs": [],
   "source": [
    "'''\n",
    "5 5 5 5 5\n",
    "4 4 4 4\n",
    "3 3 3\n",
    "2 2\n",
    "1\n",
    "\n",
    "'''\n",
    "\n",
    "n = [1,2,3,4,5]\n",
    "n.reverse()\n",
    "for i in n:\n",
    "    for j in range(i):\n",
    "        print(i,end=' ')\n",
    "    print('\\n')"
   ]
  },
  {
   "cell_type": "code",
   "execution_count": null,
   "id": "201e0968",
   "metadata": {},
   "outputs": [],
   "source": [
    "'''\n",
    "1\n",
    "1 2\n",
    "1 2 3\n",
    "1 2 3 4\n",
    "1 2 3 4 5\n",
    "\n",
    "'''\n",
    "i=1\n",
    "j=1\n",
    "n=[1,2,3,4,5]\n",
    "for i in n:\n",
    "    for j in range(i):\n",
    "        j = j+1\n",
    "        print(j,end=' ')\n",
    "    print('\\n')\n",
    "\n",
    "\n"
   ]
  },
  {
   "cell_type": "code",
   "execution_count": null,
   "id": "9f83553a",
   "metadata": {},
   "outputs": [],
   "source": [
    "'''\n",
    "5\n",
    "5 4\n",
    "5 4 3\n",
    "5 4 3 2\n",
    "5 4 3 2 1\n",
    "\n",
    "'''\n",
    "a=[1,2,3,4,5]\n",
    "i=1\n",
    "j=1\n",
    "for i in a:\n",
    "    for j in range(i):\n",
    "        j = j+1-6\n",
    "        print(abs(j),end=' ')\n",
    "    print('\\n')"
   ]
  },
  {
   "cell_type": "code",
   "execution_count": null,
   "id": "951ac959",
   "metadata": {},
   "outputs": [],
   "source": [
    "'''\n",
    "        1\n",
    "      2 1\n",
    "    3 2 1\n",
    "  4 3 2 1\n",
    "5 4 3 2 1\n",
    "'''\n",
    "n=5\n",
    "for i in range(1,n+1):\n",
    "    print('  ' * (n-i) , end = ' ')\n",
    "    for j in range(i,0,-1):\n",
    "        print(j,end = ' ')\n",
    "    print('\\n')"
   ]
  },
  {
   "cell_type": "code",
   "execution_count": null,
   "id": "730ae9fc",
   "metadata": {},
   "outputs": [],
   "source": [
    "'''\n",
    "        5\n",
    "      4 5\n",
    "    3 4 5\n",
    "  2 3 4 5\n",
    "1 2 3 4 5\n",
    "\n",
    "'''\n",
    "n=5\n",
    "for i in range(n,0,-1):\n",
    "    print('  ' * (i-1), end='  ')\n",
    "    for j in range(i,n+1):\n",
    "        print(j,end='  ')\n",
    "    print('\\n')"
   ]
  },
  {
   "cell_type": "code",
   "execution_count": 164,
   "id": "c588a345",
   "metadata": {},
   "outputs": [
    {
     "name": "stdout",
     "output_type": "stream",
     "text": [
      "1 2 3 4 5 6 7 8 9 10 "
     ]
    }
   ],
   "source": [
    "#1 2 3 4 5 6 7 8 9 10\n",
    "for i in range(1,11):\n",
    "    print(i,end=' ')"
   ]
  },
  {
   "cell_type": "code",
   "execution_count": 192,
   "id": "214a1cdf",
   "metadata": {},
   "outputs": [
    {
     "name": "stdout",
     "output_type": "stream",
     "text": [
      "2 4 6 8 10 12 14 16 18 20 "
     ]
    }
   ],
   "source": [
    "#2 4 6 8 10 12 14 16 18 20\n",
    "for i in range(1,11):\n",
    "    print(i*2,end=' ')"
   ]
  },
  {
   "cell_type": "code",
   "execution_count": 194,
   "id": "ba574761",
   "metadata": {},
   "outputs": [
    {
     "name": "stdout",
     "output_type": "stream",
     "text": [
      "3 6 9 12 15 18 21 24 27 30 "
     ]
    }
   ],
   "source": [
    "#3 6 9 12 15 18 21 24 27 30\n",
    "for i in range(1,11):\n",
    "    print(i*3,end=' ')"
   ]
  },
  {
   "cell_type": "code",
   "execution_count": 195,
   "id": "0e8b7033",
   "metadata": {},
   "outputs": [
    {
     "name": "stdout",
     "output_type": "stream",
     "text": [
      "4 8 12 16 20 24 28 32 36 40 "
     ]
    }
   ],
   "source": [
    "# 4 8 12 16 20 24 28 32 36 40\n",
    "\n",
    "for i in range(1,11):\n",
    "    print(i*4,end = ' ')"
   ]
  },
  {
   "cell_type": "code",
   "execution_count": 196,
   "id": "d49c72c9",
   "metadata": {},
   "outputs": [
    {
     "name": "stdout",
     "output_type": "stream",
     "text": [
      "5 10 15 20 25 30 35 40 45 50 "
     ]
    }
   ],
   "source": [
    "# 5 10 15 20 25 30 35 40 45 50\n",
    "for i in range(1,11):\n",
    "    print(i*5,end=' ')"
   ]
  }
 ],
 "metadata": {
  "kernelspec": {
   "display_name": "Python 3",
   "language": "python",
   "name": "python3"
  },
  "language_info": {
   "codemirror_mode": {
    "name": "ipython",
    "version": 3
   },
   "file_extension": ".py",
   "mimetype": "text/x-python",
   "name": "python",
   "nbconvert_exporter": "python",
   "pygments_lexer": "ipython3",
   "version": "3.12.4"
  }
 },
 "nbformat": 4,
 "nbformat_minor": 5
}
