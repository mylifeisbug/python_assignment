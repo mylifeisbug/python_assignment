{
 "cells": [
  {
   "cell_type": "code",
   "execution_count": 252,
   "metadata": {},
   "outputs": [
    {
     "name": "stdout",
     "output_type": "stream",
     "text": [
      "{'name': 'hello', 'age': 18}\n"
     ]
    }
   ],
   "source": [
    "#dic\n",
    "dic = {\"name\" : \"hello\", 'age': 18}\n",
    "#dic.clear()\n",
    "#y = dic.copy()\n",
    "''''x=('key1','key2','key3')\n",
    "y=0\n",
    "dic.fromkeys(x,y)'''\n",
    "#dic.get('name')\n",
    "#dic.items()\n",
    "#dic.keys()\n",
    "#dic.pop('age')\n",
    "#dic.popitem()\n",
    "#dic.setdefault('hobbies','pip')\n",
    "#dic.update({'hobbie' : 'yo'})\n",
    "dic.values()\n",
    "print(dic)"
   ]
  },
  {
   "cell_type": "code",
   "execution_count": null,
   "metadata": {},
   "outputs": [
    {
     "data": {
      "text/plain": [
       "(1, 3, 4)"
      ]
     },
     "execution_count": 217,
     "metadata": {},
     "output_type": "execute_result"
    }
   ],
   "source": [
    "#tuple\n",
    "tup = ('hey', 1,3,4)\n",
    "#tup.count(3) 1\n",
    "#tup.index(3) 2\n",
    "#tup[1:]\n",
    "#print(tup)"
   ]
  },
  {
   "cell_type": "code",
   "execution_count": 192,
   "metadata": {},
   "outputs": [
    {
     "name": "stdout",
     "output_type": "stream",
     "text": [
      "[1, 2, 3, 4, 5, 6, 7, 8, 9, 10]\n"
     ]
    }
   ],
   "source": [
    "#list\n",
    "\n",
    "myl = [1,2,3,4,5,6,7,8,9,10]\n",
    "#myl.append(11)\n",
    "#myl.clear()\n",
    "#my2 = myl.copy()\n",
    "#print(my2)\n",
    "#myl.count(5) 1\n",
    "#myl.extend([20,30,40])\n",
    "#myl.index(5)  4\n",
    "#myl.insert(2,80)\n",
    "#myl.pop()\n",
    "#myl.remove(8)\n",
    "myl.reverse()\n",
    "myl.sort()\n",
    "print(myl)"
   ]
  },
  {
   "cell_type": "code",
   "execution_count": null,
   "metadata": {},
   "outputs": [
    {
     "name": "stdout",
     "output_type": "stream",
     "text": [
      "{5, 6, 7, 9, 10, 11, 'hello world', 'bye', (4, 5, 6)}\n"
     ]
    }
   ],
   "source": [
    "#set\n",
    "myset = {\"hello world\", (4,5,6), 'bye'}\n",
    "#myset.add(10)\n",
    "#myset.clear()\n",
    "#y =myset.copy()\n",
    "#myset.difference(y)\n",
    "#myset.discard('bye')\n",
    "#myset.pop()\n",
    "#myset.remove('hello world')\n",
    "#y={1,2,3}\n",
    "#myset.update(y) or\n",
    "#myset.update([5,6,7],[9,10,11])\n",
    "print(myset)"
   ]
  },
  {
   "cell_type": "code",
   "execution_count": null,
   "metadata": {},
   "outputs": [
    {
     "data": {
      "text/plain": [
       "' PYTHON PROGRAMMING '"
      ]
     },
     "execution_count": 210,
     "metadata": {},
     "output_type": "execute_result"
    }
   ],
   "source": [
    "s1= ' python programming '\n",
    "#s1.capitalize()\n",
    "#s1.upper()\n",
    "#s1.lower()\n",
    "#s1.title()\n",
    "#s1.count('p') 2\n",
    "#s1.find('g') 11\n",
    "#s1.index('g') 11\n",
    "#s1.isalnum()\n",
    "#s1.isalpha()\n",
    "#s1.isdecimal()\n",
    "#s1.isdigit()\n",
    "#s1.islower()\n",
    "#s1.isupper()\n",
    "#s1.istitle()\n",
    "#s1.isnumeric()\n",
    "#s1.replace('python','java')\n",
    "#s1.swapcase()\n",
    "\n",
    "#print(s1.isspace())"
   ]
  },
  {
   "cell_type": "code",
   "execution_count": 255,
   "metadata": {},
   "outputs": [
    {
     "name": "stdout",
     "output_type": "stream",
     "text": [
      "15\n"
     ]
    }
   ],
   "source": [
    "sum=0\n",
    "i=0\n",
    "a = [1,2,3,4,5]\n",
    "for i in a:\n",
    "    sum= sum+i\n",
    "\n",
    "print(sum)"
   ]
  },
  {
   "cell_type": "code",
   "execution_count": null,
   "metadata": {},
   "outputs": [],
   "source": []
  }
 ],
 "metadata": {
  "kernelspec": {
   "display_name": "Python 3",
   "language": "python",
   "name": "python3"
  },
  "language_info": {
   "codemirror_mode": {
    "name": "ipython",
    "version": 3
   },
   "file_extension": ".py",
   "mimetype": "text/x-python",
   "name": "python",
   "nbconvert_exporter": "python",
   "pygments_lexer": "ipython3",
   "version": "3.10.11"
  }
 },
 "nbformat": 4,
 "nbformat_minor": 2
}
